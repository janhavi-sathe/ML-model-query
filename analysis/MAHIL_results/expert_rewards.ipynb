{
 "cells": [
  {
   "cell_type": "code",
   "execution_count": 20,
   "metadata": {},
   "outputs": [],
   "source": [
    "import os\n",
    "import numpy as np\n",
    "from aic_ml.MAHIL.helper.utils import load_trajectories\n",
    "\n",
    "cur_dir = os.getcwd()\n",
    "working_dir = os.path.dirname(os.path.dirname(cur_dir))"
   ]
  },
  {
   "cell_type": "code",
   "execution_count": 82,
   "metadata": {},
   "outputs": [
    {
     "name": "stdout",
     "output_type": "stream",
     "text": [
      "59.259203441722974 15.917649934897467\n",
      "11.851840688344595 3.1835299869794933\n",
      "[11.85184069 11.85184069 11.85184069 11.85184069 11.85184069] [3.18352999 3.18352999 3.18352999 3.18352999 3.18352999]\n",
      "0.6 0.4898979485566356\n"
     ]
    }
   ],
   "source": [
    "\n",
    "data_dir = os.path.join(working_dir, \"train_ma_dnn/data/\")\n",
    "# file_names:\n",
    "#     LaborDivision2-v2_50.pkl LaborDivision3-v2_50.pkl PO_Flood-v2_100.pkl \n",
    "#     PO_Movers-v2_100.pkl Protoss5v5_100.pkl Terran5v5_100.pkl\n",
    "file_name = \"Terran5v5_100.pkl\"\n",
    "traj = load_trajectories(data_dir + file_name, 100, 0)\n",
    "\n",
    "n_epi = len(traj[0][\"rewards\"])\n",
    "n_agent = len(traj)\n",
    "list_epi_rews = [list() for _ in range(n_agent)]\n",
    "list_wons = []\n",
    "for i_e in range(n_epi):\n",
    "    if \"wons\" in traj[0]:\n",
    "        list_wons.append(traj[0][\"wons\"][i_e])\n",
    "    for i_a in range(n_agent):\n",
    "        epi_rew = np.sum(traj[i_a][\"rewards\"][i_e])\n",
    "        list_epi_rews[i_a].append(epi_rew)\n",
    "\n",
    "ret_sum = np.sum(list_epi_rews, axis=0)\n",
    "print(np.mean(ret_sum), np.std(ret_sum))\n",
    "print(np.mean(ret_sum) / 5, np.std(ret_sum) / 5)\n",
    "print(np.mean(list_epi_rews, axis=1), np.std(list_epi_rews, axis=1))\n",
    "print(np.mean(list_wons), np.std(list_wons))"
   ]
  },
  {
   "cell_type": "code",
   "execution_count": null,
   "metadata": {},
   "outputs": [],
   "source": []
  },
  {
   "cell_type": "code",
   "execution_count": 63,
   "metadata": {},
   "outputs": [],
   "source": [
    "import pandas as pd\n",
    "\n",
    "hri_rew_path = os.path.join( cur_dir, \"hri_reward_4.csv\")\n",
    "df_hri_rew = pd.read_csv(hri_rew_path)\n",
    "\n",
    "def get_hri_rew_result(df, env_name, alg_name, sv):\n",
    "    df_setting = df[(df[\"env\"]==env_name) & \n",
    "       (df[\"alg\"]==alg_name) &\n",
    "       (df[\"sv\"]==sv)]\n",
    "      \n",
    "    # use learnt_agent and model_num as indenx\n",
    "    df_setting = df_setting.set_index([\"learnt_agent\", \"model_num\"])\n",
    "    df_res = df_setting[\"mean_return_sum\"]\n",
    "    individual_mean = df_res.groupby(level='learnt_agent').mean()\n",
    "    individual_std = df_res.groupby(level='learnt_agent').std()\n",
    "\n",
    "    total_mean = df_res.mean()\n",
    "    total_std = df_res.std()\n",
    "    \n",
    "    return df_res, individual_mean, individual_std, total_mean, total_std"
   ]
  },
  {
   "cell_type": "code",
   "execution_count": 69,
   "metadata": {},
   "outputs": [
    {
     "name": "stdout",
     "output_type": "stream",
     "text": [
      "Env: LaborDivision2-v2\n",
      "    iiql-0.0: 17.95+-1.3892843881333676\n",
      "    mahil-0.0: 18.455555555555556+-3.0840569721403335\n",
      "    mahil-0.2: 22.055555555555554+-2.1047741147387002\n",
      "    magail-0.0: 15.394444444444444+-3.066044622902548\n",
      "    maogail-0.0: 13.77222222222222+-0.7397947663347559\n",
      "    maogail-0.2: 16.294444444444444+-3.7884277985973527\n",
      "Env: LaborDivision3-v2\n",
      "    iiql-0.0: 28.183333333333326+-1.8576867335479363\n",
      "    mahil-0.0: 26.877777777777776+-1.4050174639747617\n",
      "    mahil-0.2: 28.344444444444445+-1.0005924171135754\n",
      "    magail-0.0: 18.305555555555557+-3.103003324140925\n",
      "    maogail-0.0: 16.92222222222222+-2.6065444699974085\n",
      "    maogail-0.2: 20.127777777777776+-3.4233457751586087\n",
      "Env: PO_Movers-v2\n",
      "    iiql-0.0: -222.0+-13.890876302251211\n",
      "    mahil-0.0: -213.88888888888889+-9.10888861782005\n",
      "    mahil-0.2: -204.6777777777778+-17.943437880265947\n",
      "    magail-0.0: -300.0+-0.0\n",
      "    maogail-0.0: -300.0+-0.0\n",
      "    maogail-0.2: -300.0+-0.0\n",
      "Env: PO_Flood-v2\n",
      "    iiql-0.0: 8.688888888888888+-1.2426971860820706\n",
      "    mahil-0.0: 7.766666666666667+-0.8096638534327414\n",
      "    mahil-0.2: 6.9444444444444455+-1.1680309483469589\n",
      "    magail-0.0: 7.522222222222222+-1.169551987665299\n",
      "    maogail-0.0: 7.366666666666667+-0.5853773711604053\n",
      "    maogail-0.2: 6.833333333333333+-0.9378462323619774\n"
     ]
    }
   ],
   "source": [
    "env_name = [\"LaborDivision2-v2\", \"LaborDivision3-v2\", \"PO_Movers-v2\", \"PO_Flood-v2\"]\n",
    "alg_sv = [\n",
    "    (\"iiql\", 0.0),\n",
    "    (\"mahil\", 0.0),\n",
    "    (\"mahil\", 0.2),\n",
    "    (\"magail\", 0.0),\n",
    "    (\"maogail\", 0.0),\n",
    "    (\"maogail\", 0.2)\n",
    "]\n",
    "\n",
    "for env in env_name:\n",
    "    print(f\"Env: {env}\")\n",
    "    for alg_name, sv in alg_sv:\n",
    "        res, _, _, mean, std = get_hri_rew_result(df_hri_rew, env, alg_name, sv)\n",
    "        print(f\"    {alg_name}-{sv}: {mean}+-{std}\")\n",
    "\n"
   ]
  },
  {
   "cell_type": "code",
   "execution_count": 70,
   "metadata": {},
   "outputs": [],
   "source": [
    "import pandas as pd\n",
    "\n",
    "infer_path = os.path.join( cur_dir, \"infer_latent_result.csv\")\n",
    "\n",
    "df_infer = pd.read_csv(infer_path)\n",
    "\n",
    "def get_infer_result(df, env_name, alg_name, sv):\n",
    "    df_setting = df[(df[\"env\"]==env_name) & \n",
    "       (df[\"alg\"]==alg_name) &\n",
    "       (df[\"sv\"]==sv)]\n",
    "      \n",
    "    # use learnt_agent and model_num as indenx\n",
    "    df_setting = df_setting.set_index([\"agent_idx\", \"model_num\"])\n",
    "    df_res = df_setting[\"accuracy\"]\n",
    "    individual_mean = df_res.groupby(level='agent_idx').mean()\n",
    "    individual_std = df_res.groupby(level='agent_idx').std()\n",
    "\n",
    "    total_mean = df_res.mean()\n",
    "    total_std = df_res.std()\n",
    "    \n",
    "    return df_res, individual_mean, individual_std, total_mean, total_std"
   ]
  },
  {
   "cell_type": "code",
   "execution_count": 71,
   "metadata": {},
   "outputs": [
    {
     "name": "stdout",
     "output_type": "stream",
     "text": [
      "Env: LaborDivision2-v2\n",
      "    mahil-0.2: 0: 0.7497333333333334+-0.04460597867252024, 1: 0.7496666666666667+-0.06774107567298684\n",
      "    maogail-0.2: 0: 0.6113333333333334+-0.08729039656991675, 1: 0.6334000000000001+-0.1666072027254524\n",
      "Env: LaborDivision3-v2\n",
      "    mahil-0.2: 0: 0.781+-0.07476282498675395, 1: 0.7182+-0.08117166993477469\n",
      "    maogail-0.2: 0: 0.4874+-0.03816857346037445, 1: 0.6824666666666667+-0.06117657503761823\n",
      "Env: PO_Movers-v2\n",
      "    mahil-0.2: 0: 0.7771405900598717+-0.019872716061282235, 1: 0.7787636153790666+-0.07207542849051782\n",
      "    maogail-0.2: 0: 0.3478684267474572+-0.1505722419918239, 1: 0.4588833585803938+-0.06981071948629743\n",
      "Env: PO_Flood-v2\n",
      "    mahil-0.2: 0: 0.6103366201972119+-0.07738209959133764, 1: 0.5676073897767199+-0.03060435467616486\n",
      "    maogail-0.2: 0: 0.31440553099852653+-0.060386257544394625, 1: 0.25422191998186555+-0.11598749957175995\n"
     ]
    }
   ],
   "source": [
    "env_name = [\"LaborDivision2-v2\", \"LaborDivision3-v2\", \"PO_Movers-v2\", \"PO_Flood-v2\"]\n",
    "alg_sv = [\n",
    "    (\"mahil\", 0.2),\n",
    "    (\"maogail\", 0.2)\n",
    "]\n",
    "\n",
    "for env in env_name:\n",
    "    print(f\"Env: {env}\")\n",
    "    for alg_name, sv in alg_sv:\n",
    "        res, mean, std, _, _ = get_infer_result(df_infer, env, alg_name, sv)\n",
    "        text_res = \"\"\n",
    "        for idx in range(len(mean)):\n",
    "          text_res += f\"{idx}: {mean[idx]}+-{std[idx]}, \"\n",
    "        print(f\"    {alg_name}-{sv}: {text_res[:-2]}\")"
   ]
  },
  {
   "cell_type": "code",
   "execution_count": null,
   "metadata": {},
   "outputs": [],
   "source": []
  }
 ],
 "metadata": {
  "kernelspec": {
   "display_name": "aicoach",
   "language": "python",
   "name": "python3"
  },
  "language_info": {
   "codemirror_mode": {
    "name": "ipython",
    "version": 3
   },
   "file_extension": ".py",
   "mimetype": "text/x-python",
   "name": "python",
   "nbconvert_exporter": "python",
   "pygments_lexer": "ipython3",
   "version": "3.8.19"
  }
 },
 "nbformat": 4,
 "nbformat_minor": 2
}
