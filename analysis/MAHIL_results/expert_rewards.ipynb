{
 "cells": [
  {
   "cell_type": "code",
   "execution_count": 2,
   "metadata": {},
   "outputs": [],
   "source": [
    "from aic_ml.MAHIL.helper.utils import load_trajectories\n",
    "\n",
    "data_dir = \"/home/sseo/Projects/ai_coach/train_ma_dnn/data/\"\n",
    "# file_name = \"Terran5v5_100.pkl\"\n",
    "file_name = \"Terran5v5_100.pkl\"\n",
    "traj = load_trajectories(data_dir + file_name, 100, 0)"
   ]
  },
  {
   "cell_type": "code",
   "execution_count": 3,
   "metadata": {},
   "outputs": [
    {
     "name": "stdout",
     "output_type": "stream",
     "text": [
      "[11.85184069 11.85184069 11.85184069 11.85184069 11.85184069]\n",
      "0.6\n"
     ]
    }
   ],
   "source": [
    "import numpy as np\n",
    "\n",
    "n_epi = len(traj[0][\"rewards\"])\n",
    "n_agent = len(traj)\n",
    "list_epi_rews = [list() for _ in range(n_agent)]\n",
    "list_wons = []\n",
    "for i_e in range(n_epi):\n",
    "    if \"wons\" in traj[0]:\n",
    "        list_wons.append(traj[0][\"wons\"][i_e])\n",
    "    for i_a in range(n_agent):\n",
    "        epi_rew = np.sum(traj[i_a][\"rewards\"][i_e])\n",
    "        list_epi_rews[i_a].append(epi_rew)\n",
    "\n",
    "print(np.mean(list_epi_rews, axis=1))\n",
    "print(np.mean(list_wons))\n",
    "    "
   ]
  },
  {
   "cell_type": "code",
   "execution_count": 10,
   "metadata": {},
   "outputs": [
    {
     "name": "stdout",
     "output_type": "stream",
     "text": [
      "0\n"
     ]
    }
   ],
   "source": []
  },
  {
   "cell_type": "code",
   "execution_count": null,
   "metadata": {},
   "outputs": [],
   "source": []
  }
 ],
 "metadata": {
  "kernelspec": {
   "display_name": "aicoach",
   "language": "python",
   "name": "python3"
  },
  "language_info": {
   "codemirror_mode": {
    "name": "ipython",
    "version": 3
   },
   "file_extension": ".py",
   "mimetype": "text/x-python",
   "name": "python",
   "nbconvert_exporter": "python",
   "pygments_lexer": "ipython3",
   "version": "3.10.14"
  }
 },
 "nbformat": 4,
 "nbformat_minor": 2
}
