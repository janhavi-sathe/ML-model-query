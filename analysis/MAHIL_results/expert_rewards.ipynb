{
 "cells": [
  {
   "cell_type": "code",
   "execution_count": 20,
   "metadata": {},
   "outputs": [],
   "source": [
    "import os\n",
    "import numpy as np\n",
    "\n",
    "cur_dir = os.getcwd()\n",
    "working_dir = os.path.dirname(os.path.dirname(cur_dir))"
   ]
  },
  {
   "cell_type": "code",
   "execution_count": 17,
   "metadata": {},
   "outputs": [],
   "source": [
    "from aic_ml.MAHIL.helper.utils import load_trajectories\n",
    "\n",
    "data_dir = os.path.join(working_dir, \"train_ma_dnn/data/\")\n",
    "# file_names:\n",
    "#     LaborDivision2_100.pkl LaborDivision3_100.pkl PO_Flood-v2_100.pkl \n",
    "#     PO_Movers-v2_100.pkl Protoss5v5_100.pkl Terran5v5_100.pkl\n",
    "file_name = \"PO_Flood-v2_100.pkl\"\n",
    "traj = load_trajectories(data_dir + file_name, 100, 0)"
   ]
  },
  {
   "cell_type": "code",
   "execution_count": 18,
   "metadata": {},
   "outputs": [
    {
     "name": "stdout",
     "output_type": "stream",
     "text": [
      "[4.62 4.62]\n",
      "nan\n"
     ]
    }
   ],
   "source": [
    "\n",
    "n_epi = len(traj[0][\"rewards\"])\n",
    "n_agent = len(traj)\n",
    "list_epi_rews = [list() for _ in range(n_agent)]\n",
    "list_wons = []\n",
    "for i_e in range(n_epi):\n",
    "    if \"wons\" in traj[0]:\n",
    "        list_wons.append(traj[0][\"wons\"][i_e])\n",
    "    for i_a in range(n_agent):\n",
    "        epi_rew = np.sum(traj[i_a][\"rewards\"][i_e])\n",
    "        list_epi_rews[i_a].append(epi_rew)\n",
    "\n",
    "print(np.mean(list_epi_rews, axis=1))\n",
    "print(np.mean(list_wons))\n",
    "    "
   ]
  },
  {
   "cell_type": "code",
   "execution_count": 23,
   "metadata": {},
   "outputs": [],
   "source": [
    "import pandas as pd\n",
    "\n",
    "hri_rew_path = os.path.join( cur_dir, \"hri_reward.csv\")\n",
    "\n",
    "df = pd.read_csv(hri_rew_path)\n"
   ]
  },
  {
   "cell_type": "code",
   "execution_count": 37,
   "metadata": {},
   "outputs": [
    {
     "name": "stdout",
     "output_type": "stream",
     "text": [
      "mahil\n",
      "learnt_agent  model_num\n",
      "0             1            8.200000\n",
      "              2            9.133333\n",
      "              3            8.533333\n",
      "1             1            9.400000\n",
      "              2            8.600000\n",
      "              3            9.933333\n",
      "Name: mean_return_sum, dtype: float64\n",
      "mahil\n",
      "learnt_agent  model_num\n",
      "0             1            8.533333\n",
      "              2            7.800000\n",
      "              3            7.800000\n",
      "1             1            7.200000\n",
      "              2            8.466667\n",
      "              3            8.266667\n",
      "Name: mean_return_sum, dtype: float64\n",
      "mahil\n",
      "learnt_agent  model_num\n",
      "0             1            6.000000\n",
      "              2            7.000000\n",
      "              3            7.133333\n",
      "1             1            7.866667\n",
      "              2            9.733333\n",
      "              3            6.733333\n",
      "Name: mean_return_sum, dtype: float64\n"
     ]
    }
   ],
   "source": [
    "env_name = \"PO_Flood-v2\"\n",
    "alg_name = \"mahil\"\n",
    "sv = 0.0\n",
    "\n",
    "def get_hri_rew_result(df, env_name, alg_name, sv):\n",
    "    df_domain = df[(df[\"env\"]==env_name) & \n",
    "       (df[\"alg\"]==alg_name) &\n",
    "       (df[\"sv\"]==sv)]\n",
    "      \n",
    "    # use learnt_agent and model_num as indenx\n",
    "    df_domain = df_domain.set_index([\"learnt_agent\", \"model_num\"])\n",
    "    \n",
    "    return df_domain[\"mean_return_sum\"]\n",
    "\n",
    "print(alg_name)\n",
    "print(get_hri_rew_result(df, env_name, \"iiql\", 0.0))\n",
    "print(alg_name)\n",
    "print(get_hri_rew_result(df, env_name, \"mahil\", 0.0))\n",
    "print(alg_name)\n",
    "print(get_hri_rew_result(df, env_name, \"mahil\", 0.2))\n"
   ]
  },
  {
   "cell_type": "code",
   "execution_count": null,
   "metadata": {},
   "outputs": [],
   "source": []
  }
 ],
 "metadata": {
  "kernelspec": {
   "display_name": "aicoach",
   "language": "python",
   "name": "python3"
  },
  "language_info": {
   "codemirror_mode": {
    "name": "ipython",
    "version": 3
   },
   "file_extension": ".py",
   "mimetype": "text/x-python",
   "name": "python",
   "nbconvert_exporter": "python",
   "pygments_lexer": "ipython3",
   "version": "3.8.19"
  }
 },
 "nbformat": 4,
 "nbformat_minor": 2
}
