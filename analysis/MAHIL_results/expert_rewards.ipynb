{
 "cells": [
  {
   "cell_type": "code",
   "execution_count": 3,
   "metadata": {},
   "outputs": [],
   "source": [
    "import os\n",
    "import numpy as np\n",
    "from aic_ml.MAHIL.helper.utils import load_trajectories\n",
    "\n",
    "cur_dir = os.getcwd()\n",
    "working_dir = os.path.dirname(os.path.dirname(cur_dir))"
   ]
  },
  {
   "cell_type": "code",
   "execution_count": 87,
   "metadata": {},
   "outputs": [
    {
     "name": "stdout",
     "output_type": "stream",
     "text": [
      "90.22864077669902 24.17514558652156\n",
      "18.045728155339805 4.835029117304312\n",
      "[18.04572816 18.04572816 18.04572816 18.04572816 18.04572816] [4.83502912 4.83502912 4.83502912 4.83502912 4.83502912]\n",
      "0.55 0.49749371855331\n"
     ]
    }
   ],
   "source": [
    "\n",
    "data_dir = os.path.join(working_dir, \"train_ma_dnn/data/\")\n",
    "# file_names:\n",
    "#     LaborDivision2-v2_50.pkl LaborDivision3-v2_50.pkl PO_Flood-v2_100.pkl \n",
    "#     PO_Movers-v2_100.pkl Protoss5v5_100.pkl Terran5v5_100.pkl\n",
    "file_name = \"Protoss5v5_100.pkl\"\n",
    "traj = load_trajectories(data_dir + file_name, 100, 0)\n",
    "\n",
    "n_epi = len(traj[0][\"rewards\"])\n",
    "n_agent = len(traj)\n",
    "list_epi_rews = [list() for _ in range(n_agent)]\n",
    "list_wons = []\n",
    "for i_e in range(n_epi):\n",
    "    if \"wons\" in traj[0]:\n",
    "        list_wons.append(traj[0][\"wons\"][i_e])\n",
    "    for i_a in range(n_agent):\n",
    "        epi_rew = np.sum(traj[i_a][\"rewards\"][i_e])\n",
    "        list_epi_rews[i_a].append(epi_rew)\n",
    "\n",
    "ret_sum = np.sum(list_epi_rews, axis=0)\n",
    "print(np.mean(ret_sum), np.std(ret_sum))\n",
    "print(np.mean(ret_sum) / 5, np.std(ret_sum) / 5)\n",
    "print(np.mean(list_epi_rews, axis=1), np.std(list_epi_rews, axis=1))\n",
    "print(np.mean(list_wons), np.std(list_wons))"
   ]
  },
  {
   "cell_type": "code",
   "execution_count": null,
   "metadata": {},
   "outputs": [],
   "source": []
  },
  {
   "cell_type": "code",
   "execution_count": 83,
   "metadata": {},
   "outputs": [],
   "source": [
    "import pandas as pd\n",
    "\n",
    "hri_rew_path = os.path.join( cur_dir, \"hri_reward_4.csv\")\n",
    "df_hri_rew = pd.read_csv(hri_rew_path)\n",
    "\n",
    "def get_hri_rew_result(df, env_name, alg_name, sv):\n",
    "    df_setting = df[(df[\"env\"]==env_name) & \n",
    "       (df[\"alg\"]==alg_name) &\n",
    "       (df[\"sv\"]==sv)]\n",
    "      \n",
    "    # use learnt_agent and model_num as indenx\n",
    "    df_setting = df_setting.set_index([\"learnt_agent\", \"model_num\"])\n",
    "    df_res = df_setting[\"mean_return_sum\"]\n",
    "    individual_mean = df_res.groupby(level='learnt_agent').mean()\n",
    "    individual_std = df_res.groupby(level='learnt_agent').std()\n",
    "\n",
    "    total_mean = df_res.mean()\n",
    "    total_std = df_res.std()\n",
    "    \n",
    "    return df_res, individual_mean, individual_std, total_mean, total_std"
   ]
  },
  {
   "cell_type": "code",
   "execution_count": 84,
   "metadata": {},
   "outputs": [
    {
     "name": "stdout",
     "output_type": "stream",
     "text": [
      "Env: LaborDivision2-v2\n",
      "    bc-0.0: 17.416666666666668+-0.35323898111303936\n",
      "    iiql-0.0: 17.911111111111108+-1.7413489875083314\n",
      "    mahil-0.0: 17.944444444444443+-4.056471738218197\n",
      "    mahil-0.2: 21.82777777777778+-1.4970217346699\n",
      "    magail-0.0: 14.861111111111112+-2.2893392221499362\n",
      "    maogail-0.0: 13.577777777777778+-1.3770607453181931\n",
      "    maogail-0.2: 16.033333333333335+-4.0364450806234045\n",
      "Env: LaborDivision3-v2\n",
      "    bc-0.0: 17.400000000000002+-0.4671426144361299\n",
      "    iiql-0.0: 28.566666666666663+-2.3764586164197246\n",
      "    mahil-0.0: 27.849999999999998+-0.9044949480849023\n",
      "    mahil-0.2: 27.86111111111111+-1.1954388625413153\n",
      "    magail-0.0: 18.133333333333333+-3.735654040608032\n",
      "    maogail-0.0: 17.7+-3.6688478360984713\n",
      "    maogail-0.2: 19.805555555555557+-2.4872489636961164\n",
      "Env: PO_Movers-v2\n",
      "    bc-0.0: -300.0+-0.0\n",
      "    iiql-0.0: -213.0111111111111+-14.993415838911385\n",
      "    mahil-0.0: -217.74444444444444+-14.268499363075088\n",
      "    mahil-0.2: -202.53333333333333+-20.66430093986568\n",
      "    magail-0.0: -300.0+-0.0\n",
      "    maogail-0.0: -299.9555555555556+-0.10886621079038049\n",
      "    maogail-0.2: -300.0+-0.0\n",
      "Env: PO_Flood-v2\n",
      "    bc-0.0: 2.3222222222222224+-0.43902248318365283\n",
      "    iiql-0.0: 8.733333333333334+-0.9013570016616307\n",
      "    mahil-0.0: 7.8999999999999995+-0.7621606713081494\n",
      "    mahil-0.2: 7.6000000000000005+-1.2278255395436095\n",
      "    magail-0.0: 7.5+-0.8991353871606015\n",
      "    maogail-0.0: 7.644444444444445+-0.40806680644046356\n",
      "    maogail-0.2: 7.477777777777778+-1.2346239493450206\n"
     ]
    }
   ],
   "source": [
    "env_name = [\"LaborDivision2-v2\", \"LaborDivision3-v2\", \"PO_Movers-v2\", \"PO_Flood-v2\"]\n",
    "alg_sv = [\n",
    "    (\"bc\", 0.0),\n",
    "    (\"iiql\", 0.0),\n",
    "    (\"mahil\", 0.0),\n",
    "    (\"mahil\", 0.2),\n",
    "    (\"magail\", 0.0),\n",
    "    (\"maogail\", 0.0),\n",
    "    (\"maogail\", 0.2)\n",
    "]\n",
    "\n",
    "for env in env_name:\n",
    "    print(f\"Env: {env}\")\n",
    "    for alg_name, sv in alg_sv:\n",
    "        res, _, _, mean, std = get_hri_rew_result(df_hri_rew, env, alg_name, sv)\n",
    "        print(f\"    {alg_name}-{sv}: {mean}+-{std}\")\n",
    "\n"
   ]
  },
  {
   "cell_type": "code",
   "execution_count": 5,
   "metadata": {},
   "outputs": [],
   "source": [
    "import pandas as pd\n",
    "def get_infer_result(df, env_name, alg_name, sv):\n",
    "    df_setting = df[(df[\"env\"]==env_name) & \n",
    "       (df[\"alg\"]==alg_name) &\n",
    "       (df[\"sv\"]==sv)]\n",
    "      \n",
    "    # use learnt_agent and model_num as indenx\n",
    "    df_setting = df_setting.set_index([\"agent_idx\", \"model_num\"])\n",
    "    df_res = df_setting[\"accuracy\"]\n",
    "    individual_mean = df_res.groupby(level='agent_idx').mean()\n",
    "    individual_std = df_res.groupby(level='agent_idx').std()\n",
    "\n",
    "    total_mean = df_res.mean()\n",
    "    total_std = df_res.std()\n",
    "    \n",
    "    return df_res, individual_mean, individual_std, total_mean, total_std"
   ]
  },
  {
   "cell_type": "code",
   "execution_count": 89,
   "metadata": {},
   "outputs": [
    {
     "name": "stdout",
     "output_type": "stream",
     "text": [
      "Env: LaborDivision2-v2\n",
      "    mahil-0.2: 0: 0.7497333333333334+-0.04460597867252024, 1: 0.7496666666666667+-0.06774107567298684\n",
      "    maogail-0.2: 0: 0.6113333333333334+-0.08729039656991675, 1: 0.6334000000000001+-0.1666072027254524\n",
      "Env: LaborDivision3-v2\n",
      "    mahil-0.2: 0: 0.781+-0.07476282498675395, 1: 0.7182+-0.08117166993477469\n",
      "    maogail-0.2: 0: 0.4874+-0.03816857346037445, 1: 0.6824666666666667+-0.06117657503761823\n",
      "Env: PO_Movers-v2\n",
      "    mahil-0.2: 0: 0.7771405900598717+-0.019872716061282235, 1: 0.7787636153790666+-0.07207542849051782\n",
      "    maogail-0.2: 0: 0.3478684267474572+-0.1505722419918239, 1: 0.4588833585803938+-0.06981071948629743\n",
      "Env: PO_Flood-v2\n",
      "    mahil-0.2: 0: 0.6103366201972119+-0.07738209959133764, 1: 0.5676073897767199+-0.03060435467616486\n",
      "    maogail-0.2: 0: 0.31440553099852653+-0.060386257544394625, 1: 0.25422191998186555+-0.11598749957175995\n"
     ]
    }
   ],
   "source": [
    "\n",
    "infer_path = os.path.join( cur_dir, \"infer_latent_result.csv\")\n",
    "\n",
    "df_infer = pd.read_csv(infer_path)\n",
    "\n",
    "\n",
    "env_name = [\"LaborDivision2-v2\", \"LaborDivision3-v2\", \"PO_Movers-v2\", \"PO_Flood-v2\"]\n",
    "alg_sv = [\n",
    "    (\"mahil\", 0.2),\n",
    "    (\"maogail\", 0.2)\n",
    "]\n",
    "\n",
    "for env in env_name:\n",
    "    print(f\"Env: {env}\")\n",
    "    for alg_name, sv in alg_sv:\n",
    "        res, mean, std, _, _ = get_infer_result(df_infer, env, alg_name, sv)\n",
    "        text_res = \"\"\n",
    "        for idx in range(len(mean)):\n",
    "          text_res += f\"{idx}: {mean[idx]}+-{std[idx]}, \"\n",
    "        print(f\"    {alg_name}-{sv}: {text_res[:-2]}\")"
   ]
  },
  {
   "cell_type": "code",
   "execution_count": 7,
   "metadata": {},
   "outputs": [
    {
     "name": "stdout",
     "output_type": "stream",
     "text": [
      "Env: PO_Movers-v2\n",
      "    btil-0.2: 0: 0.9004183798600591+-0.010581844800401844, 1: 0.9094712544182356+-0.008154943316411459\n",
      "Env: PO_Flood-v2\n",
      "    btil-0.2: 0: 0.5285050436359515+-0.04362917999598854, 1: 0.6207639125014167+-0.008275382222043205\n"
     ]
    }
   ],
   "source": [
    "btil_result_path = \"/home/sangwon/Projects/ai_coach/train_ma_dnn/infer_latent_result_btil2.csv\"\n",
    "\n",
    "df_infer = pd.read_csv(btil_result_path)\n",
    "\n",
    "\n",
    "env_name = [\"PO_Movers-v2\", \"PO_Flood-v2\"]\n",
    "alg_sv = [\n",
    "    (\"btil\", 0.2),\n",
    "]\n",
    "\n",
    "for env in env_name:\n",
    "    print(f\"Env: {env}\")\n",
    "    for alg_name, sv in alg_sv:\n",
    "        res, mean, std, _, _ = get_infer_result(df_infer, env, alg_name, sv)\n",
    "        text_res = \"\"\n",
    "        for idx in range(len(mean)):\n",
    "          text_res += f\"{idx}: {mean[idx]}+-{std[idx]}, \"\n",
    "        print(f\"    {alg_name}-{sv}: {text_res[:-2]}\")\n"
   ]
  },
  {
   "cell_type": "code",
   "execution_count": null,
   "metadata": {},
   "outputs": [],
   "source": []
  }
 ],
 "metadata": {
  "kernelspec": {
   "display_name": "aicoach",
   "language": "python",
   "name": "python3"
  },
  "language_info": {
   "codemirror_mode": {
    "name": "ipython",
    "version": 3
   },
   "file_extension": ".py",
   "mimetype": "text/x-python",
   "name": "python",
   "nbconvert_exporter": "python",
   "pygments_lexer": "ipython3",
   "version": "3.8.19"
  }
 },
 "nbformat": 4,
 "nbformat_minor": 2
}
