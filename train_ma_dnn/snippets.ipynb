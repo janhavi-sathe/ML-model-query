{
 "cells": [
  {
   "cell_type": "code",
   "execution_count": 14,
   "metadata": {},
   "outputs": [
    {
     "name": "stdout",
     "output_type": "stream",
     "text": [
      "0.97 0.1705872210923198\n",
      "120.0 0.0\n",
      "(100, 5)\n",
      "19.930613 0.97076434\n"
     ]
    }
   ],
   "source": [
    "import pickle\n",
    "import numpy as np\n",
    "\n",
    "data_dir = '/home/sangwon/Projects/ai_coach/train_ma_dnn/data'\n",
    "file_name = 'sc2_2s3z_100.pkl'\n",
    "\n",
    "with open(f'{data_dir}/{file_name}', 'rb') as f:\n",
    "  expert_trajs = pickle.load(f)\n",
    "\n",
    "wons = expert_trajs[\"wons\"]\n",
    "lengths = expert_trajs[\"lengths\"]\n",
    "\n",
    "print(np.mean(wons), np.std(wons))\n",
    "print(np.mean(lengths), np.std(lengths))\n",
    "rewards = expert_trajs[\"rewards\"]\n",
    "np_rewards = np.array(rewards)\n",
    "np_sum_rewards = np.sum(np_rewards, axis=2).squeeze()\n",
    "print(np_sum_rewards.shape)\n",
    "print(np.mean(np_sum_rewards[:, 0]), np.std(np_sum_rewards[:, 0]))\n",
    "\n",
    "\n",
    "\n"
   ]
  },
  {
   "cell_type": "code",
   "execution_count": 2,
   "metadata": {},
   "outputs": [
    {
     "name": "stdout",
     "output_type": "stream",
     "text": [
      "average latent per episode:\n",
      "[[74.52 17.19 21.89  6.4 ]\n",
      " [76.57  8.74 28.69  6.  ]\n",
      " [75.64 16.22 19.6   8.54]\n",
      " [67.32 25.94 17.91  8.83]\n",
      " [63.86 33.55 11.51 11.08]]\n",
      "[[16.644807   16.22879848 10.63851023  8.1215762 ]\n",
      " [14.05507382  8.40073806 11.57730107  5.81205643]\n",
      " [12.11983498  9.68460634 11.01998185 10.54553934]\n",
      " [13.64835521 13.48986286 12.36535078  8.20616232]\n",
      " [16.90030769 19.38523923  6.48458942  9.39327419]]\n"
     ]
    }
   ],
   "source": [
    "n_episodes = len(expert_trajs[\"latents\"])\n",
    "n_agents = len(expert_trajs[\"latents\"][0])\n",
    "# print(n_episodes, n_agents)\n",
    "\n",
    "n_latents = 4\n",
    "\n",
    "latent_stats = np.zeros((n_agents, n_episodes, n_latents))\n",
    "\n",
    "for i_e, episode in enumerate(expert_trajs[\"latents\"]):\n",
    "  for i_a, latents in enumerate(episode):\n",
    "    for latent in latents:\n",
    "      latent_stats[i_a, i_e, latent] += 1\n",
    "\n",
    "print(\"average latent per episode:\")\n",
    "print(np.mean(latent_stats, axis=1))\n",
    "\n",
    "print(np.std(latent_stats, axis=1))\n",
    "\n"
   ]
  },
  {
   "cell_type": "code",
   "execution_count": null,
   "metadata": {},
   "outputs": [],
   "source": []
  }
 ],
 "metadata": {
  "kernelspec": {
   "display_name": "aicoach",
   "language": "python",
   "name": "python3"
  },
  "language_info": {
   "codemirror_mode": {
    "name": "ipython",
    "version": 3
   },
   "file_extension": ".py",
   "mimetype": "text/x-python",
   "name": "python",
   "nbconvert_exporter": "python",
   "pygments_lexer": "ipython3",
   "version": "3.10.15"
  }
 },
 "nbformat": 4,
 "nbformat_minor": 2
}
