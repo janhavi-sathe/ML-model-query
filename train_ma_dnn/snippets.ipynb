{
 "cells": [
  {
   "cell_type": "code",
   "execution_count": 1,
   "metadata": {},
   "outputs": [
    {
     "name": "stdout",
     "output_type": "stream",
     "text": [
      "0.97 0.1705872210923198\n",
      "120.0 0.0\n",
      "(100, 5)\n",
      "19.930613167623523 0.9707643574108895\n"
     ]
    }
   ],
   "source": [
    "import pickle\n",
    "import numpy as np\n",
    "\n",
    "data_dir = '/home/sangwon/Projects/ai_coach/train_ma_dnn/data'\n",
    "file_name = 'sc2_2s3z_100.pkl'\n",
    "\n",
    "with open(f'{data_dir}/{file_name}', 'rb') as f:\n",
    "  expert_trajs = pickle.load(f)\n",
    "\n",
    "wons = expert_trajs[\"wons\"]\n",
    "lengths = expert_trajs[\"lengths\"]\n",
    "\n",
    "print(np.mean(wons), np.std(wons))\n",
    "print(np.mean(lengths), np.std(lengths))\n",
    "rewards = expert_trajs[\"rewards\"]\n",
    "np_rewards = np.array(rewards)\n",
    "np_sum_rewards = np.sum(np_rewards, axis=2).squeeze()\n",
    "print(np_sum_rewards.shape)\n",
    "print(np.mean(np_sum_rewards[:, 0]), np.std(np_sum_rewards[:, 0]))\n",
    "\n",
    "\n",
    "\n"
   ]
  },
  {
   "cell_type": "code",
   "execution_count": 3,
   "metadata": {},
   "outputs": [
    {
     "name": "stdout",
     "output_type": "stream",
     "text": [
      "100 5\n",
      "average latent per episode:\n",
      "[[0.621      0.14325    0.18241667 0.05333333]\n",
      " [0.63808333 0.07283333 0.23908333 0.05      ]\n",
      " [0.63033333 0.13516667 0.16333333 0.07116667]\n",
      " [0.561      0.21616667 0.14925    0.07358333]\n",
      " [0.53216667 0.27958333 0.09591667 0.09233333]]\n",
      "[[16.644807   16.22879848 10.63851023  8.1215762 ]\n",
      " [14.05507382  8.40073806 11.57730107  5.81205643]\n",
      " [12.11983498  9.68460634 11.01998185 10.54553934]\n",
      " [13.64835521 13.48986286 12.36535078  8.20616232]\n",
      " [16.90030769 19.38523923  6.48458942  9.39327419]]\n"
     ]
    }
   ],
   "source": [
    "n_episodes = len(expert_trajs[\"latents\"])\n",
    "n_agents = len(expert_trajs[\"latents\"][0])\n",
    "print(n_episodes, n_agents)\n",
    "\n",
    "n_latents = 4\n",
    "\n",
    "latent_stats = np.zeros((n_agents, n_episodes, n_latents))\n",
    "\n",
    "for i_e, episode in enumerate(expert_trajs[\"latents\"]):\n",
    "  for i_a, latents in enumerate(episode):\n",
    "    for latent in latents:\n",
    "      latent_stats[i_a, i_e, latent] += 1\n",
    "\n",
    "print(\"average latent per episode:\")\n",
    "mean_latent_states = np.mean(latent_stats, axis=1)\n",
    "print(mean_latent_states/mean_latent_states.sum(axis=-1, keepdims=True))\n",
    "print(np.std(latent_stats, axis=1))\n",
    "\n"
   ]
  },
  {
   "cell_type": "code",
   "execution_count": 5,
   "metadata": {},
   "outputs": [],
   "source": [
    "# # convert to non-numpy version\n",
    "# def convert_numpy_to_list(obj):\n",
    "#     if isinstance(obj, np.ndarray):\n",
    "#         return obj.tolist()  # Convert numpy array to list\n",
    "#     elif isinstance(obj, list):\n",
    "#         # Recursively convert elements of the list\n",
    "#         return [convert_numpy_to_list(item) for item in obj]\n",
    "#     elif isinstance(obj, dict):\n",
    "#         # Recursively convert elements of the dictionary\n",
    "#         return {key: convert_numpy_to_list(value) for key, value in obj.items()}\n",
    "#     else:\n",
    "#         return obj  # If it's not a numpy array or list, return as is\n",
    "\n",
    "\n",
    "# expert_trajs_converted = convert_numpy_to_list(expert_trajs)\n",
    "\n",
    "# with open(f'{data_dir}/converted_{file_name}', 'wb') as f:\n",
    "#   pickle.dump(expert_trajs_converted, f)\n",
    "\n",
    "\n"
   ]
  },
  {
   "cell_type": "code",
   "execution_count": 28,
   "metadata": {},
   "outputs": [],
   "source": [
    "np_expert_trajs = {}\n",
    "\n",
    "for key, all_episode in expert_trajs.items():\n",
    "    if isinstance(all_episode[0], list) and len(all_episode[0])==n_agents:\n",
    "        np_expert_trajs[key] = np_expert_trajs.get(key, [])\n",
    "        for episode in all_episode:\n",
    "            list_agent_data = []\n",
    "            for data in episode:\n",
    "                list_agent_data.append(np.array(data))\n",
    "            np_expert_trajs[key].append(list_agent_data)\n",
    "    else:\n",
    "        np_expert_trajs[key] = np.array(all_episode)\n"
   ]
  },
  {
   "cell_type": "code",
   "execution_count": 30,
   "metadata": {},
   "outputs": [
    {
     "name": "stdout",
     "output_type": "stream",
     "text": [
      "dict_keys(['states', 'avail_actions', 'next_states', 'actions', 'rewards', 'dones', 'latents', 'wons', 'lengths'])\n",
      "100 <class 'list'>\n",
      "5 <class 'list'>\n",
      "(120, 1) <class 'numpy.ndarray'>\n",
      "100 <class 'numpy.ndarray'>\n",
      "(100,)\n"
     ]
    }
   ],
   "source": [
    "print(np_expert_trajs.keys())\n",
    "key = \"latents\"\n",
    "print(len(np_expert_trajs[key]), type(np_expert_trajs[key]))\n",
    "print(len(np_expert_trajs[key][0]), type(np_expert_trajs[key][0]))\n",
    "print(np_expert_trajs[key][0][0].shape, type(np_expert_trajs[key][0][0]))\n",
    "\n",
    "key = \"lengths\"\n",
    "print(len(np_expert_trajs[key]), type(np_expert_trajs[key]))\n",
    "print(np_expert_trajs[key].shape)\n",
    "\n"
   ]
  },
  {
   "cell_type": "code",
   "execution_count": 31,
   "metadata": {},
   "outputs": [],
   "source": [
    "\n",
    "with open(f'{data_dir}/converted_{file_name}', 'wb') as f:\n",
    "  pickle.dump(np_expert_trajs, f)\n"
   ]
  },
  {
   "cell_type": "code",
   "execution_count": null,
   "metadata": {},
   "outputs": [],
   "source": []
  }
 ],
 "metadata": {
  "kernelspec": {
   "display_name": "Python 3 (ipykernel)",
   "language": "python",
   "name": "python3"
  },
  "language_info": {
   "codemirror_mode": {
    "name": "ipython",
    "version": 3
   },
   "file_extension": ".py",
   "mimetype": "text/x-python",
   "name": "python",
   "nbconvert_exporter": "python",
   "pygments_lexer": "ipython3",
   "version": "3.8.10"
  }
 },
 "nbformat": 4,
 "nbformat_minor": 4
}
